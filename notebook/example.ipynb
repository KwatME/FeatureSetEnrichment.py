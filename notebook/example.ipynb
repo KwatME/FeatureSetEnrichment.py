{
 "cells": [
  {
   "cell_type": "code",
   "execution_count": null,
   "metadata": {},
   "outputs": [],
   "source": [
    "# import julia\n",
    "\n",
    "# julia.install()"
   ]
  },
  {
   "cell_type": "code",
   "execution_count": null,
   "metadata": {},
   "outputs": [],
   "source": [
    "from julia import Main"
   ]
  },
  {
   "cell_type": "code",
   "execution_count": null,
   "metadata": {},
   "outputs": [],
   "source": [
    "Main.eval(\n",
    "    \"\"\"\n",
    "using DataFrames\n",
    "using Pandas\n",
    "using Plotly\n",
    "\n",
    "using GCTGMT \n",
    "using FeatureSetEnrichment\n",
    "\"\"\"\n",
    ")"
   ]
  },
  {
   "cell_type": "code",
   "execution_count": null,
   "metadata": {},
   "outputs": [],
   "source": [
    "import pandas as pd"
   ]
  },
  {
   "cell_type": "code",
   "execution_count": null,
   "metadata": {},
   "outputs": [],
   "source": [
    "score_ = pd.read_csv(\n",
    "    \"/Users/kwat/code/jl/FeatureSetEnrichment.jl/notebook/data/gene_score.tsv\",\n",
    "    sep=\"\\t\",\n",
    "    index_col=0,\n",
    "    squeeze=True,\n",
    ")\n",
    "\n",
    "element_x_sample = pd.concat(\n",
    "    (score_, score_ * 10, score_ / 10), axis=1\n",
    ").reset_index()\n",
    "\n",
    "element_x_sample.columns = (\n",
    "    \"Sample {}\".format(i) for i in range(element_x_sample.shape[1])\n",
    ")\n",
    "\n",
    "set_to_element_ = Main.eval(\n",
    "    \"\"\"\n",
    "read_gmt(\"/Users/kwat/code/jl/FeatureSetEnrichment.jl/notebook/data/c2.all.v7.1.symbols.gmt\")\n",
    "\"\"\"\n",
    ")\n",
    "\n",
    "set_element_ = set_to_element_[\"COLLER_MYC_TARGETS_UP\"]"
   ]
  },
  {
   "cell_type": "code",
   "execution_count": null,
   "metadata": {},
   "outputs": [],
   "source": [
    "def send(score_, set_element, set_to_element_, element_x_sample):\n",
    "\n",
    "    if score_ is not None:\n",
    "\n",
    "        Main.element_ = list(score_.index)\n",
    "\n",
    "        Main.score_ = list(score_)\n",
    "\n",
    "    if set_element_ is not None:\n",
    "\n",
    "        Main.set_element_ = list(set_element_)\n",
    "\n",
    "    if set_to_element_ is not None:\n",
    "\n",
    "        Main.set_to_element_ = set_to_element_\n",
    "\n",
    "        Main.eval(\n",
    "            \"\"\"\n",
    "        set_to_element_ = convert(Dict{String, Vector{String}}, set_to_element_)\n",
    "        \"\"\"\n",
    "        )\n",
    "\n",
    "    if element_x_sample is not None:\n",
    "\n",
    "        Main.element_x_sample = element_x_sample\n",
    "\n",
    "        Main.eval(\n",
    "            \"\"\"\n",
    "        element_x_sample = DataFrames.DataFrame(Pandas.DataFrame(element_x_sample))\n",
    "        \"\"\"\n",
    "        )"
   ]
  },
  {
   "cell_type": "code",
   "execution_count": null,
   "metadata": {},
   "outputs": [],
   "source": [
    "def score_1_sample_1_set(score_, set_element_, sort=True, plot=True, title_text = \"Title\"):\n",
    "\n",
    "    send(score_, set_element_, None, None)\n",
    "\n",
    "    Main.sort = sort\n",
    "\n",
    "    Main.plot = plot\n",
    "    \n",
    "    Main.title_text = title_text\n",
    "    \n",
    "    result = Main.eval(\n",
    "        \"\"\"\n",
    "    score_set(\n",
    "        element_,\n",
    "        score_,\n",
    "        set_element_;\n",
    "        sort = sort,\n",
    "        plot = plot,\n",
    "        title_text = title_text,\n",
    "    )\n",
    "    \"\"\"\n",
    "    )\n",
    "\n",
    "    return result\n",
    "\n",
    "\n",
    "score_1_sample_1_set(score_, set_element_)"
   ]
  },
  {
   "cell_type": "code",
   "execution_count": null,
   "metadata": {
    "tags": []
   },
   "outputs": [],
   "source": [
    "def score_1_sample_n_set(score_, set_to_element_, sort=True):\n",
    "\n",
    "    send(score_, None, set_to_element_, None)\n",
    "\n",
    "    Main.sort = sort\n",
    "\n",
    "    set_to_retsult = Main.eval(\n",
    "        \"\"\"\n",
    "    score_set(\n",
    "        element_,\n",
    "        score_,\n",
    "        set_to_element_;\n",
    "        sort = sort,\n",
    "    )\n",
    "    \"\"\"\n",
    "    )\n",
    "\n",
    "    return set_to_retsult\n",
    "\n",
    "score_1_sample_n_set(score_, set_to_element_)"
   ]
  },
  {
   "cell_type": "code",
   "execution_count": null,
   "metadata": {},
   "outputs": [],
   "source": [
    "def score_n_sample_n_set(element_x_sample, set_to_element_, n_job=1):\n",
    "\n",
    "    send(None, None, set_to_element_, element_x_sample)\n",
    "\n",
    "    Main.n_job = n_job\n",
    "\n",
    "    set_x_sample = Main.eval(\n",
    "        \"\"\"\n",
    "    Pandas.DataFrame(score_set(\n",
    "        element_x_sample,\n",
    "        set_to_element_;\n",
    "        n_job = n_job,\n",
    "    ))\n",
    "    \"\"\"\n",
    "    )\n",
    "\n",
    "    return set_x_sample.set_index(\"Set\")\n",
    "\n",
    "\n",
    "score_n_sample_n_set(element_x_sample, set_to_element_)"
   ]
  }
 ],
 "metadata": {
  "kernelspec": {
   "display_name": "Python 3",
   "language": "python",
   "name": "python3"
  },
  "language_info": {
   "codemirror_mode": {
    "name": "ipython",
    "version": 3
   },
   "file_extension": ".py",
   "mimetype": "text/x-python",
   "name": "python",
   "nbconvert_exporter": "python",
   "pygments_lexer": "ipython3",
   "version": "3.9.4"
  }
 },
 "nbformat": 4,
 "nbformat_minor": 4
}
