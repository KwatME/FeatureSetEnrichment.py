{
 "cells": [
  {
   "cell_type": "code",
   "execution_count": null,
   "metadata": {},
   "outputs": [],
   "source": [
    "import pandas as pd"
   ]
  },
  {
   "cell_type": "code",
   "execution_count": null,
   "metadata": {},
   "outputs": [],
   "source": [
    "import julia\n",
    "\n",
    "julia.install()\n",
    "\n",
    "from julia import Main"
   ]
  },
  {
   "cell_type": "code",
   "execution_count": null,
   "metadata": {},
   "outputs": [],
   "source": [
    "Main.eval(\"\"\"\n",
    "using DataFrames\n",
    "using Pandas\n",
    "\n",
    "using SEA\n",
    "\"\"\")"
   ]
  },
  {
   "cell_type": "code",
   "execution_count": null,
   "metadata": {},
   "outputs": [],
   "source": [
    "element_score_ = pd.read_csv(\n",
    "    \"~/code/julia/SEA.jl/notebook/data/gene_score.tsv\",\n",
    "    sep=\"\\t\",\n",
    "    index_col=0,\n",
    "    squeeze=True,\n",
    ")\n",
    "\n",
    "element_x_sample = pd.concat((element_score_, element_score_ * 10, element_score_ / 10), axis=1).reset_index()\n",
    "\n",
    "element_x_sample.columns = (\n",
    "    \"Sample {}\".format(i) for i in range(element_x_sample.shape[1])\n",
    ")\n",
    "\n",
    "set_to_element_ = Main.eval(\"\"\"\n",
    "SEA.read_gmt(\"/Users/kwat/code/julia/SEA.jl/notebook/data/c2.all.v7.1.symbols.gmt\")\n",
    "\"\"\")\n",
    "\n",
    "set_element_ = set_to_element_[\"COLLER_MYC_TARGETS_UP\"]"
   ]
  },
  {
   "cell_type": "code",
   "execution_count": null,
   "metadata": {},
   "outputs": [],
   "source": [
    "def send(element_score_, set_element, set_to_element_, element_x_sample):\n",
    "    \n",
    "    if element_score_ is not None:\n",
    "        \n",
    "        Main.element_ = list(element_score_.index)\n",
    "\n",
    "        Main.score_ = list(element_score_)\n",
    "\n",
    "    if set_element_ is not None:\n",
    "        \n",
    "        Main.set_element_ = list(set_element_)\n",
    "\n",
    "    if set_to_element_ is not None:\n",
    "        \n",
    "        Main.set_to_element_ = set_to_element_\n",
    "\n",
    "        Main.eval(\"\"\"\n",
    "        set_to_element_ = convert(Dict{String, Vector{String}}, set_to_element_)\n",
    "        \"\"\")\n",
    "        \n",
    "    if element_x_sample is not None:\n",
    "\n",
    "        Main.element_x_sample = element_x_sample\n",
    "\n",
    "        Main.eval(\"\"\"\n",
    "        element_x_sample = DataFrames.DataFrame(Pandas.DataFrame(element_x_sample))\n",
    "        \"\"\")"
   ]
  },
  {
   "cell_type": "code",
   "execution_count": null,
   "metadata": {},
   "outputs": [],
   "source": [
    "def score_1_sample_1_set(element_score_, set_element_, sort=True, plot=True):\n",
    "    \n",
    "    send(element_score_, set_element_, None, None)\n",
    "    \n",
    "    Main.sort = sort\n",
    "    \n",
    "    Main.plot = plot\n",
    "\n",
    "    result = Main.eval(\"\"\"\n",
    "    score_set(\n",
    "        element_,\n",
    "        score_,\n",
    "        set_element_;\n",
    "        sort = sort,\n",
    "        plot = plot,\n",
    "    )\n",
    "    \"\"\")\n",
    "\n",
    "    return result\n",
    "\n",
    "score_1_sample_1_set(element_score_, set_element_, sort=True, plot=False)"
   ]
  },
  {
   "cell_type": "code",
   "execution_count": null,
   "metadata": {},
   "outputs": [],
   "source": [
    "def score_1_sample_n_set(element_score_, set_to_elements, sort=True):\n",
    "    \n",
    "    send(element_score_, None, set_to_element_, None)\n",
    "    \n",
    "    Main.sort = sort\n",
    "    \n",
    "    set_to_retsult = Main.eval(\"\"\"\n",
    "    score_set(\n",
    "        element_,\n",
    "        score_,\n",
    "        set_to_element_;\n",
    "        sort = sort,\n",
    "    )\n",
    "    \"\"\")\n",
    "\n",
    "    return set_to_retsult\n",
    "\n",
    "score_1_sample_n_set(element_score_, set_element_, sort=True)"
   ]
  },
  {
   "cell_type": "code",
   "execution_count": null,
   "metadata": {},
   "outputs": [],
   "source": [
    "def score_n_sample_n_set(element_x_sample, set_to_element_, n_job=1):\n",
    "    \n",
    "    send(None, None, set_to_element_, element_x_sample)\n",
    "    \n",
    "    Main.n_job = n_job\n",
    "\n",
    "    set_x_sample = Main.eval(\"\"\"\n",
    "    Pandas.DataFrame(score_set(\n",
    "        element_x_sample,\n",
    "        set_to_element_;\n",
    "        n_job = n_job,\n",
    "    ))\n",
    "    \"\"\")\n",
    "\n",
    "    return set_x_sample.set_index(\"Set\")\n",
    "\n",
    "score_n_sample_n_set(element_x_sample, set_to_element_, n_job=1)"
   ]
  }
 ],
 "metadata": {
  "kernelspec": {
   "display_name": "Python 3",
   "language": "python",
   "name": "python3"
  },
  "language_info": {
   "codemirror_mode": {
    "name": "ipython",
    "version": 3
   },
   "file_extension": ".py",
   "mimetype": "text/x-python",
   "name": "python",
   "nbconvert_exporter": "python",
   "pygments_lexer": "ipython3",
   "version": "3.9.1"
  }
 },
 "nbformat": 4,
 "nbformat_minor": 4
}
