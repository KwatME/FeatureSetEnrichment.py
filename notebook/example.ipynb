{
 "cells": [
  {
   "cell_type": "code",
   "execution_count": 2,
   "metadata": {},
   "outputs": [],
   "source": [
    "import pandas as pd"
   ]
  },
  {
   "cell_type": "code",
   "execution_count": 3,
   "metadata": {},
   "outputs": [],
   "source": [
    "import julia\n",
    "\n",
    "julia.install()"
   ]
  },
  {
   "cell_type": "code",
   "execution_count": 4,
   "metadata": {},
   "outputs": [],
   "source": [
    "from julia import Main"
   ]
  },
  {
   "cell_type": "code",
   "execution_count": 5,
   "metadata": {},
   "outputs": [
    {
     "ename": "JuliaError",
     "evalue": "Exception 'ArgumentError: Package DataFrames not found in current path:\n- Run `import Pkg; Pkg.add(\"DataFrames\")` to install the DataFrames package.\n' occurred while calling julia code:\n\nusing DataFrames\nusing Pandas\n\nusing SEA\n",
     "output_type": "error",
     "traceback": [
      "\u001b[0;31m---------------------------------------------------------------------------\u001b[0m",
      "\u001b[0;31mJuliaError\u001b[0m                                Traceback (most recent call last)",
      "\u001b[0;32m<ipython-input-5-63ceecd2204b>\u001b[0m in \u001b[0;36m<module>\u001b[0;34m\u001b[0m\n\u001b[0;32m----> 1\u001b[0;31m Main.eval(\n\u001b[0m\u001b[1;32m      2\u001b[0m     \"\"\"\n\u001b[1;32m      3\u001b[0m \u001b[0musing\u001b[0m \u001b[0mDataFrames\u001b[0m\u001b[0;34m\u001b[0m\u001b[0;34m\u001b[0m\u001b[0m\n\u001b[1;32m      4\u001b[0m \u001b[0musing\u001b[0m \u001b[0mPandas\u001b[0m\u001b[0;34m\u001b[0m\u001b[0;34m\u001b[0m\u001b[0m\n\u001b[1;32m      5\u001b[0m \u001b[0;34m\u001b[0m\u001b[0m\n",
      "\u001b[0;32m/usr/local/lib/python3.9/site-packages/julia/core.py\u001b[0m in \u001b[0;36meval\u001b[0;34m(self, src)\u001b[0m\n\u001b[1;32m    603\u001b[0m         \u001b[0;32mif\u001b[0m \u001b[0msrc\u001b[0m \u001b[0;32mis\u001b[0m \u001b[0;32mNone\u001b[0m\u001b[0;34m:\u001b[0m\u001b[0;34m\u001b[0m\u001b[0;34m\u001b[0m\u001b[0m\n\u001b[1;32m    604\u001b[0m             \u001b[0;32mreturn\u001b[0m \u001b[0;32mNone\u001b[0m\u001b[0;34m\u001b[0m\u001b[0;34m\u001b[0m\u001b[0m\n\u001b[0;32m--> 605\u001b[0;31m         \u001b[0mans\u001b[0m \u001b[0;34m=\u001b[0m \u001b[0mself\u001b[0m\u001b[0;34m.\u001b[0m\u001b[0m_call\u001b[0m\u001b[0;34m(\u001b[0m\u001b[0msrc\u001b[0m\u001b[0;34m)\u001b[0m\u001b[0;34m\u001b[0m\u001b[0;34m\u001b[0m\u001b[0m\n\u001b[0m\u001b[1;32m    606\u001b[0m         \u001b[0;32mif\u001b[0m \u001b[0;32mnot\u001b[0m \u001b[0mans\u001b[0m\u001b[0;34m:\u001b[0m\u001b[0;34m\u001b[0m\u001b[0;34m\u001b[0m\u001b[0m\n\u001b[1;32m    607\u001b[0m             \u001b[0;32mreturn\u001b[0m \u001b[0;32mNone\u001b[0m\u001b[0;34m\u001b[0m\u001b[0;34m\u001b[0m\u001b[0m\n",
      "\u001b[0;32m/usr/local/lib/python3.9/site-packages/julia/core.py\u001b[0m in \u001b[0;36m_call\u001b[0;34m(self, src)\u001b[0m\n\u001b[1;32m    536\u001b[0m         \u001b[0;31m# logger.debug(\"_call(%s)\", src)\u001b[0m\u001b[0;34m\u001b[0m\u001b[0;34m\u001b[0m\u001b[0;34m\u001b[0m\u001b[0m\n\u001b[1;32m    537\u001b[0m         \u001b[0mans\u001b[0m \u001b[0;34m=\u001b[0m \u001b[0mself\u001b[0m\u001b[0;34m.\u001b[0m\u001b[0mapi\u001b[0m\u001b[0;34m.\u001b[0m\u001b[0mjl_eval_string\u001b[0m\u001b[0;34m(\u001b[0m\u001b[0msrc\u001b[0m\u001b[0;34m.\u001b[0m\u001b[0mencode\u001b[0m\u001b[0;34m(\u001b[0m\u001b[0;34m'utf-8'\u001b[0m\u001b[0;34m)\u001b[0m\u001b[0;34m)\u001b[0m\u001b[0;34m\u001b[0m\u001b[0;34m\u001b[0m\u001b[0m\n\u001b[0;32m--> 538\u001b[0;31m         \u001b[0mself\u001b[0m\u001b[0;34m.\u001b[0m\u001b[0mcheck_exception\u001b[0m\u001b[0;34m(\u001b[0m\u001b[0msrc\u001b[0m\u001b[0;34m)\u001b[0m\u001b[0;34m\u001b[0m\u001b[0;34m\u001b[0m\u001b[0m\n\u001b[0m\u001b[1;32m    539\u001b[0m \u001b[0;34m\u001b[0m\u001b[0m\n\u001b[1;32m    540\u001b[0m         \u001b[0;32mreturn\u001b[0m \u001b[0mans\u001b[0m\u001b[0;34m\u001b[0m\u001b[0;34m\u001b[0m\u001b[0m\n",
      "\u001b[0;32m/usr/local/lib/python3.9/site-packages/julia/core.py\u001b[0m in \u001b[0;36mcheck_exception\u001b[0;34m(self, src)\u001b[0m\n\u001b[1;32m    585\u001b[0m         \u001b[0;32melse\u001b[0m\u001b[0;34m:\u001b[0m\u001b[0;34m\u001b[0m\u001b[0;34m\u001b[0m\u001b[0m\n\u001b[1;32m    586\u001b[0m             \u001b[0mexception\u001b[0m \u001b[0;34m=\u001b[0m \u001b[0msprint\u001b[0m\u001b[0;34m(\u001b[0m\u001b[0mshowerror\u001b[0m\u001b[0;34m,\u001b[0m \u001b[0mself\u001b[0m\u001b[0;34m.\u001b[0m\u001b[0m_as_pyobj\u001b[0m\u001b[0;34m(\u001b[0m\u001b[0mres\u001b[0m\u001b[0;34m)\u001b[0m\u001b[0;34m)\u001b[0m\u001b[0;34m\u001b[0m\u001b[0;34m\u001b[0m\u001b[0m\n\u001b[0;32m--> 587\u001b[0;31m         raise JuliaError(u'Exception \\'{}\\' occurred while calling julia code:\\n{}'\n\u001b[0m\u001b[1;32m    588\u001b[0m                          .format(exception, src))\n\u001b[1;32m    589\u001b[0m \u001b[0;34m\u001b[0m\u001b[0m\n",
      "\u001b[0;31mJuliaError\u001b[0m: Exception 'ArgumentError: Package DataFrames not found in current path:\n- Run `import Pkg; Pkg.add(\"DataFrames\")` to install the DataFrames package.\n' occurred while calling julia code:\n\nusing DataFrames\nusing Pandas\n\nusing SEA\n"
     ]
    }
   ],
   "source": [
    "Main.eval(\n",
    "    \"\"\"\n",
    "using DataFrames\n",
    "using Pandas\n",
    "\n",
    "using SEA\n",
    "\"\"\"\n",
    ")"
   ]
  },
  {
   "cell_type": "code",
   "execution_count": null,
   "metadata": {},
   "outputs": [],
   "source": [
    "element_score_ = pd.read_csv(\n",
    "    \"~/code/julia/SEA.jl/notebook/data/gene_score.tsv\",\n",
    "    sep=\"\\t\",\n",
    "    index_col=0,\n",
    "    squeeze=True,\n",
    ")\n",
    "\n",
    "element_x_sample = pd.concat(\n",
    "    (element_score_, element_score_ * 10, element_score_ / 10), axis=1\n",
    ").reset_index()\n",
    "\n",
    "element_x_sample.columns = (\n",
    "    \"Sample {}\".format(i) for i in range(element_x_sample.shape[1])\n",
    ")\n",
    "\n",
    "set_to_element_ = Main.eval(\n",
    "    \"\"\"\n",
    "SEA.read_gmt(\"/Users/kwat/code/julia/SEA.jl/notebook/data/c2.all.v7.1.symbols.gmt\")\n",
    "\"\"\"\n",
    ")\n",
    "\n",
    "set_element_ = set_to_element_[\"COLLER_MYC_TARGETS_UP\"]"
   ]
  },
  {
   "cell_type": "code",
   "execution_count": null,
   "metadata": {},
   "outputs": [],
   "source": [
    "def send(element_score_, set_element, set_to_element_, element_x_sample):\n",
    "\n",
    "    if element_score_ is not None:\n",
    "\n",
    "        Main.element_ = list(element_score_.index)\n",
    "\n",
    "        Main.score_ = list(element_score_)\n",
    "\n",
    "    if set_element_ is not None:\n",
    "\n",
    "        Main.set_element_ = list(set_element_)\n",
    "\n",
    "    if set_to_element_ is not None:\n",
    "\n",
    "        Main.set_to_element_ = set_to_element_\n",
    "\n",
    "        Main.eval(\n",
    "            \"\"\"\n",
    "        set_to_element_ = convert(Dict{String, Vector{String}}, set_to_element_)\n",
    "        \"\"\"\n",
    "        )\n",
    "\n",
    "    if element_x_sample is not None:\n",
    "\n",
    "        Main.element_x_sample = element_x_sample\n",
    "\n",
    "        Main.eval(\n",
    "            \"\"\"\n",
    "        element_x_sample = DataFrames.DataFrame(Pandas.DataFrame(element_x_sample))\n",
    "        \"\"\"\n",
    "        )"
   ]
  },
  {
   "cell_type": "code",
   "execution_count": null,
   "metadata": {},
   "outputs": [],
   "source": [
    "def score_1_sample_1_set(element_score_, set_element_, sort=True, plot=True):\n",
    "\n",
    "    send(element_score_, set_element_, None, None)\n",
    "\n",
    "    Main.sort = sort\n",
    "\n",
    "    Main.plot = plot\n",
    "\n",
    "    result = Main.eval(\n",
    "        \"\"\"\n",
    "    score_set(\n",
    "        element_,\n",
    "        score_,\n",
    "        set_element_;\n",
    "        sort = sort,\n",
    "        plot = plot,\n",
    "    )\n",
    "    \"\"\"\n",
    "    )\n",
    "\n",
    "    return result\n",
    "\n",
    "\n",
    "score_1_sample_1_set(element_score_, set_element_, sort=True, plot=False)"
   ]
  },
  {
   "cell_type": "code",
   "execution_count": null,
   "metadata": {},
   "outputs": [],
   "source": [
    "def score_1_sample_n_set(element_score_, set_to_elements, sort=True):\n",
    "\n",
    "    send(element_score_, None, set_to_element_, None)\n",
    "\n",
    "    Main.sort = sort\n",
    "\n",
    "    set_to_retsult = Main.eval(\n",
    "        \"\"\"\n",
    "    score_set(\n",
    "        element_,\n",
    "        score_,\n",
    "        set_to_element_;\n",
    "        sort = sort,\n",
    "    )\n",
    "    \"\"\"\n",
    "    )\n",
    "\n",
    "    return set_to_retsult\n",
    "\n",
    "\n",
    "score_1_sample_n_set(element_score_, set_element_, sort=True)"
   ]
  },
  {
   "cell_type": "code",
   "execution_count": null,
   "metadata": {},
   "outputs": [],
   "source": [
    "def score_n_sample_n_set(element_x_sample, set_to_element_, n_job=1):\n",
    "\n",
    "    send(None, None, set_to_element_, element_x_sample)\n",
    "\n",
    "    Main.n_job = n_job\n",
    "\n",
    "    set_x_sample = Main.eval(\n",
    "        \"\"\"\n",
    "    Pandas.DataFrame(score_set(\n",
    "        element_x_sample,\n",
    "        set_to_element_;\n",
    "        n_job = n_job,\n",
    "    ))\n",
    "    \"\"\"\n",
    "    )\n",
    "\n",
    "    return set_x_sample.set_index(\"Set\")\n",
    "\n",
    "\n",
    "score_n_sample_n_set(element_x_sample, set_to_element_, n_job=1)"
   ]
  }
 ],
 "metadata": {
  "kernelspec": {
   "display_name": "Python 3",
   "language": "python",
   "name": "python3"
  },
  "language_info": {
   "codemirror_mode": {
    "name": "ipython",
    "version": 3
   },
   "file_extension": ".py",
   "mimetype": "text/x-python",
   "name": "python",
   "nbconvert_exporter": "python",
   "pygments_lexer": "ipython3",
   "version": "3.9.4"
  }
 },
 "nbformat": 4,
 "nbformat_minor": 4
}
